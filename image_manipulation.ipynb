{
 "cells": [
  {
   "cell_type": "markdown",
   "metadata": {},
   "source": [
    "# Use on colab as GPU will be better."
   ]
  },
  {
   "cell_type": "code",
   "execution_count": null,
   "metadata": {},
   "outputs": [],
   "source": [
    "import numpy as np\n",
    "from PIL import Image\n",
    "from google.colab import files\n",
    "import colorsys\n",
    "\n",
    "# There is a mistake in the line below. Fix it\n",
    "image = Image.open(\"/content/lenna.webp\")\n",
    "\n",
    "rgb = np.array(image) / 255.0\n",
    "lightness = np.apply_along_axis(lambda x: colorsys.rgb_to_hls(*x)[1], 2, rgb)\n",
    "light_pixels = np.sum(lightness > 0.755)\n",
    "print(f'Number of pixels with lightness > 0.755: {light_pixels}')"
   ]
  }
 ],
 "metadata": {
  "kernelspec": {
   "display_name": ".venv",
   "language": "python",
   "name": "python3"
  },
  "language_info": {
   "name": "python",
   "version": "3.12.2"
  }
 },
 "nbformat": 4,
 "nbformat_minor": 2
}
